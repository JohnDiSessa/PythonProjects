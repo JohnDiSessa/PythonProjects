{
 "cells": [
  {
   "cell_type": "code",
   "execution_count": 1,
   "id": "0dd594e6-07c0-4636-a19d-119ef1860363",
   "metadata": {},
   "outputs": [],
   "source": [
    "# import packages\n",
    "import pandas as pd\n",
    "import seaborn as sns\n",
    "import numpy as np\n",
    "import matplotlib.pyplot as plt\n",
    "%matplotlib inline\n"
   ]
  },
  {
   "cell_type": "code",
   "execution_count": 2,
   "id": "2956be49-35b8-46d4-9cfe-4572afe462db",
   "metadata": {},
   "outputs": [],
   "source": [
    "# Import dataset\n",
    "baseballcsv = pd.read_csv('2002-2022 MLB Hitting Data.csv')\n"
   ]
  },
  {
   "cell_type": "code",
   "execution_count": 3,
   "id": "257773e3-448a-4f2c-9235-ee533835ab4c",
   "metadata": {},
   "outputs": [],
   "source": [
    "# drop player_id column (many blanks) and first and last name columns\n",
    "baseballcsvdropid = baseballcsv.drop(baseballcsv.columns[[0, 1, 2, 3]], axis=1)\n"
   ]
  },
  {
   "cell_type": "code",
   "execution_count": 4,
   "id": "f7686083-cdb7-440b-8302-54f29a21b62f",
   "metadata": {},
   "outputs": [
    {
     "name": "stdout",
     "output_type": "stream",
     "text": [
      "<class 'pandas.core.frame.DataFrame'>\n",
      "Int64Index: 4257 entries, 2223 to 11447\n",
      "Data columns (total 25 columns):\n",
      " #   Column               Non-Null Count  Dtype  \n",
      "---  ------               --------------  -----  \n",
      " 0   player_age           4257 non-null   int64  \n",
      " 1   b_ab                 4257 non-null   int64  \n",
      " 2   b_total_hits         4257 non-null   int64  \n",
      " 3   b_single             4257 non-null   int64  \n",
      " 4   b_double             4257 non-null   int64  \n",
      " 5   b_triple             4257 non-null   int64  \n",
      " 6   b_home_run           4257 non-null   int64  \n",
      " 7   b_strikeout          4257 non-null   int64  \n",
      " 8   b_walk               4257 non-null   int64  \n",
      " 9   batting_avg          4257 non-null   float64\n",
      " 10  slg_percent          4257 non-null   float64\n",
      " 11  on_base_percent      4257 non-null   float64\n",
      " 12  b_rbi                4257 non-null   int64  \n",
      " 13  r_total_stolen_base  4257 non-null   int64  \n",
      " 14  b_swinging_strike    4257 non-null   int64  \n",
      " 15  xba                  4257 non-null   float64\n",
      " 16  xslg                 4257 non-null   float64\n",
      " 17  xwoba                4257 non-null   float64\n",
      " 18  xobp                 4257 non-null   float64\n",
      " 19  xiso                 4257 non-null   float64\n",
      " 20  bacon                4257 non-null   float64\n",
      " 21  exit_velocity_avg    4257 non-null   float64\n",
      " 22  launch_angle_avg     4257 non-null   float64\n",
      " 23  barrel_batted_rate   4257 non-null   float64\n",
      " 24  sprint_speed         4257 non-null   float64\n",
      "dtypes: float64(13), int64(12)\n",
      "memory usage: 864.7 KB\n"
     ]
    }
   ],
   "source": [
    "# drop any rows with a blank value in it\n",
    "baseballfinal = baseballcsvdropid.dropna(axis=0,how='any',thresh=None,subset=None,inplace=False)\n",
    "baseballfinal.info()\n"
   ]
  },
  {
   "cell_type": "code",
   "execution_count": 5,
   "id": "ffb988e7-0583-4c6c-96c2-d7e5a241864f",
   "metadata": {},
   "outputs": [],
   "source": [
    "# homerun percentiles\n",
    "fiftyper = np.percentile(baseballfinal['b_home_run'], 50)\n",
    "eightyper= np.percentile(baseballfinal['b_home_run'], 80)\n"
   ]
  },
  {
   "cell_type": "code",
   "execution_count": 6,
   "id": "8d57614a-5234-4b18-adbe-c74e0853d683",
   "metadata": {},
   "outputs": [
    {
     "name": "stderr",
     "output_type": "stream",
     "text": [
      "<ipython-input-6-33381a02475f>:10: SettingWithCopyWarning: \n",
      "A value is trying to be set on a copy of a slice from a DataFrame.\n",
      "Try using .loc[row_indexer,col_indexer] = value instead\n",
      "\n",
      "See the caveats in the documentation: https://pandas.pydata.org/pandas-docs/stable/user_guide/indexing.html#returning-a-view-versus-a-copy\n",
      "  baseballfinal['homeruncat'] = baseballfinal['b_home_run'].map(home_run_cat)\n"
     ]
    }
   ],
   "source": [
    "# add a categorical homerun column\n",
    "def home_run_cat(value):\n",
    "    if value < fiftyper:\n",
    "        return \"Low\"\n",
    "    if fiftyper <= value < eightyper:\n",
    "        return \"Medium\"\n",
    "    elif eightyper <= value < 400:\n",
    "        return \"High\"\n",
    "baseballfinal.copy()\n",
    "baseballfinal['homeruncat'] = baseballfinal['b_home_run'].map(home_run_cat)"
   ]
  },
  {
   "cell_type": "code",
   "execution_count": 7,
   "id": "fa59eee0-30a5-409a-8bc6-c69085fe1575",
   "metadata": {},
   "outputs": [
    {
     "data": {
      "text/html": [
       "<div>\n",
       "<style scoped>\n",
       "    .dataframe tbody tr th:only-of-type {\n",
       "        vertical-align: middle;\n",
       "    }\n",
       "\n",
       "    .dataframe tbody tr th {\n",
       "        vertical-align: top;\n",
       "    }\n",
       "\n",
       "    .dataframe thead th {\n",
       "        text-align: right;\n",
       "    }\n",
       "</style>\n",
       "<table border=\"1\" class=\"dataframe\">\n",
       "  <thead>\n",
       "    <tr style=\"text-align: right;\">\n",
       "      <th></th>\n",
       "      <th>count</th>\n",
       "      <th>mean</th>\n",
       "      <th>std</th>\n",
       "      <th>min</th>\n",
       "      <th>25%</th>\n",
       "      <th>50%</th>\n",
       "      <th>75%</th>\n",
       "      <th>max</th>\n",
       "    </tr>\n",
       "  </thead>\n",
       "  <tbody>\n",
       "    <tr>\n",
       "      <th>player_age</th>\n",
       "      <td>4257.0</td>\n",
       "      <td>28.031947</td>\n",
       "      <td>3.763873</td>\n",
       "      <td>19.000</td>\n",
       "      <td>25.000</td>\n",
       "      <td>28.000</td>\n",
       "      <td>31.000</td>\n",
       "      <td>43.000</td>\n",
       "    </tr>\n",
       "    <tr>\n",
       "      <th>b_ab</th>\n",
       "      <td>4257.0</td>\n",
       "      <td>276.637538</td>\n",
       "      <td>178.902220</td>\n",
       "      <td>36.000</td>\n",
       "      <td>115.000</td>\n",
       "      <td>235.000</td>\n",
       "      <td>429.000</td>\n",
       "      <td>681.000</td>\n",
       "    </tr>\n",
       "    <tr>\n",
       "      <th>b_total_hits</th>\n",
       "      <td>4257.0</td>\n",
       "      <td>69.944797</td>\n",
       "      <td>50.922048</td>\n",
       "      <td>0.000</td>\n",
       "      <td>25.000</td>\n",
       "      <td>56.000</td>\n",
       "      <td>110.000</td>\n",
       "      <td>216.000</td>\n",
       "    </tr>\n",
       "    <tr>\n",
       "      <th>b_single</th>\n",
       "      <td>4257.0</td>\n",
       "      <td>44.792577</td>\n",
       "      <td>33.023068</td>\n",
       "      <td>0.000</td>\n",
       "      <td>17.000</td>\n",
       "      <td>36.000</td>\n",
       "      <td>69.000</td>\n",
       "      <td>170.000</td>\n",
       "    </tr>\n",
       "    <tr>\n",
       "      <th>b_double</th>\n",
       "      <td>4257.0</td>\n",
       "      <td>13.941273</td>\n",
       "      <td>10.923621</td>\n",
       "      <td>0.000</td>\n",
       "      <td>5.000</td>\n",
       "      <td>11.000</td>\n",
       "      <td>22.000</td>\n",
       "      <td>58.000</td>\n",
       "    </tr>\n",
       "    <tr>\n",
       "      <th>b_triple</th>\n",
       "      <td>4257.0</td>\n",
       "      <td>1.341555</td>\n",
       "      <td>1.816110</td>\n",
       "      <td>0.000</td>\n",
       "      <td>0.000</td>\n",
       "      <td>1.000</td>\n",
       "      <td>2.000</td>\n",
       "      <td>15.000</td>\n",
       "    </tr>\n",
       "    <tr>\n",
       "      <th>b_home_run</th>\n",
       "      <td>4257.0</td>\n",
       "      <td>9.869392</td>\n",
       "      <td>9.779853</td>\n",
       "      <td>0.000</td>\n",
       "      <td>2.000</td>\n",
       "      <td>7.000</td>\n",
       "      <td>14.000</td>\n",
       "      <td>62.000</td>\n",
       "    </tr>\n",
       "    <tr>\n",
       "      <th>b_strikeout</th>\n",
       "      <td>4257.0</td>\n",
       "      <td>66.975335</td>\n",
       "      <td>42.247415</td>\n",
       "      <td>3.000</td>\n",
       "      <td>31.000</td>\n",
       "      <td>58.000</td>\n",
       "      <td>97.000</td>\n",
       "      <td>219.000</td>\n",
       "    </tr>\n",
       "    <tr>\n",
       "      <th>b_walk</th>\n",
       "      <td>4257.0</td>\n",
       "      <td>26.122622</td>\n",
       "      <td>21.804594</td>\n",
       "      <td>0.000</td>\n",
       "      <td>9.000</td>\n",
       "      <td>20.000</td>\n",
       "      <td>38.000</td>\n",
       "      <td>145.000</td>\n",
       "    </tr>\n",
       "    <tr>\n",
       "      <th>batting_avg</th>\n",
       "      <td>4257.0</td>\n",
       "      <td>0.236554</td>\n",
       "      <td>0.049018</td>\n",
       "      <td>0.000</td>\n",
       "      <td>0.211</td>\n",
       "      <td>0.244</td>\n",
       "      <td>0.269</td>\n",
       "      <td>0.400</td>\n",
       "    </tr>\n",
       "    <tr>\n",
       "      <th>slg_percent</th>\n",
       "      <td>4257.0</td>\n",
       "      <td>0.386376</td>\n",
       "      <td>0.101385</td>\n",
       "      <td>0.000</td>\n",
       "      <td>0.330</td>\n",
       "      <td>0.393</td>\n",
       "      <td>0.451</td>\n",
       "      <td>0.755</td>\n",
       "    </tr>\n",
       "    <tr>\n",
       "      <th>on_base_percent</th>\n",
       "      <td>4257.0</td>\n",
       "      <td>0.302072</td>\n",
       "      <td>0.058383</td>\n",
       "      <td>0.000</td>\n",
       "      <td>0.277</td>\n",
       "      <td>0.310</td>\n",
       "      <td>0.338</td>\n",
       "      <td>0.490</td>\n",
       "    </tr>\n",
       "    <tr>\n",
       "      <th>b_rbi</th>\n",
       "      <td>4257.0</td>\n",
       "      <td>35.587503</td>\n",
       "      <td>28.446765</td>\n",
       "      <td>0.000</td>\n",
       "      <td>12.000</td>\n",
       "      <td>28.000</td>\n",
       "      <td>54.000</td>\n",
       "      <td>133.000</td>\n",
       "    </tr>\n",
       "    <tr>\n",
       "      <th>r_total_stolen_base</th>\n",
       "      <td>4257.0</td>\n",
       "      <td>4.120742</td>\n",
       "      <td>6.637675</td>\n",
       "      <td>0.000</td>\n",
       "      <td>0.000</td>\n",
       "      <td>2.000</td>\n",
       "      <td>5.000</td>\n",
       "      <td>62.000</td>\n",
       "    </tr>\n",
       "    <tr>\n",
       "      <th>b_swinging_strike</th>\n",
       "      <td>4257.0</td>\n",
       "      <td>138.871271</td>\n",
       "      <td>94.383028</td>\n",
       "      <td>6.000</td>\n",
       "      <td>61.000</td>\n",
       "      <td>118.000</td>\n",
       "      <td>202.000</td>\n",
       "      <td>476.000</td>\n",
       "    </tr>\n",
       "    <tr>\n",
       "      <th>xba</th>\n",
       "      <td>4257.0</td>\n",
       "      <td>0.233271</td>\n",
       "      <td>0.040756</td>\n",
       "      <td>0.022</td>\n",
       "      <td>0.213</td>\n",
       "      <td>0.239</td>\n",
       "      <td>0.260</td>\n",
       "      <td>0.359</td>\n",
       "    </tr>\n",
       "    <tr>\n",
       "      <th>xslg</th>\n",
       "      <td>4257.0</td>\n",
       "      <td>0.379865</td>\n",
       "      <td>0.092189</td>\n",
       "      <td>0.029</td>\n",
       "      <td>0.326</td>\n",
       "      <td>0.381</td>\n",
       "      <td>0.438</td>\n",
       "      <td>0.706</td>\n",
       "    </tr>\n",
       "    <tr>\n",
       "      <th>xwoba</th>\n",
       "      <td>4257.0</td>\n",
       "      <td>0.299138</td>\n",
       "      <td>0.055068</td>\n",
       "      <td>0.040</td>\n",
       "      <td>0.274</td>\n",
       "      <td>0.303</td>\n",
       "      <td>0.333</td>\n",
       "      <td>0.475</td>\n",
       "    </tr>\n",
       "    <tr>\n",
       "      <th>xobp</th>\n",
       "      <td>4257.0</td>\n",
       "      <td>0.302645</td>\n",
       "      <td>0.051897</td>\n",
       "      <td>0.044</td>\n",
       "      <td>0.280</td>\n",
       "      <td>0.308</td>\n",
       "      <td>0.334</td>\n",
       "      <td>0.475</td>\n",
       "    </tr>\n",
       "    <tr>\n",
       "      <th>xiso</th>\n",
       "      <td>4257.0</td>\n",
       "      <td>0.146597</td>\n",
       "      <td>0.064263</td>\n",
       "      <td>0.002</td>\n",
       "      <td>0.101</td>\n",
       "      <td>0.142</td>\n",
       "      <td>0.188</td>\n",
       "      <td>0.401</td>\n",
       "    </tr>\n",
       "    <tr>\n",
       "      <th>bacon</th>\n",
       "      <td>4257.0</td>\n",
       "      <td>0.319246</td>\n",
       "      <td>0.056831</td>\n",
       "      <td>0.000</td>\n",
       "      <td>0.289</td>\n",
       "      <td>0.323</td>\n",
       "      <td>0.355</td>\n",
       "      <td>0.607</td>\n",
       "    </tr>\n",
       "    <tr>\n",
       "      <th>exit_velocity_avg</th>\n",
       "      <td>4257.0</td>\n",
       "      <td>87.887503</td>\n",
       "      <td>2.696499</td>\n",
       "      <td>72.500</td>\n",
       "      <td>86.300</td>\n",
       "      <td>88.100</td>\n",
       "      <td>89.700</td>\n",
       "      <td>96.500</td>\n",
       "    </tr>\n",
       "    <tr>\n",
       "      <th>launch_angle_avg</th>\n",
       "      <td>4257.0</td>\n",
       "      <td>11.672351</td>\n",
       "      <td>5.799420</td>\n",
       "      <td>-37.500</td>\n",
       "      <td>8.400</td>\n",
       "      <td>12.000</td>\n",
       "      <td>15.400</td>\n",
       "      <td>34.300</td>\n",
       "    </tr>\n",
       "    <tr>\n",
       "      <th>barrel_batted_rate</th>\n",
       "      <td>4257.0</td>\n",
       "      <td>6.352690</td>\n",
       "      <td>4.381434</td>\n",
       "      <td>0.000</td>\n",
       "      <td>3.000</td>\n",
       "      <td>5.800</td>\n",
       "      <td>9.100</td>\n",
       "      <td>31.600</td>\n",
       "    </tr>\n",
       "    <tr>\n",
       "      <th>sprint_speed</th>\n",
       "      <td>4257.0</td>\n",
       "      <td>26.916044</td>\n",
       "      <td>1.645898</td>\n",
       "      <td>20.200</td>\n",
       "      <td>25.900</td>\n",
       "      <td>27.100</td>\n",
       "      <td>28.100</td>\n",
       "      <td>30.900</td>\n",
       "    </tr>\n",
       "  </tbody>\n",
       "</table>\n",
       "</div>"
      ],
      "text/plain": [
       "                      count        mean         std     min      25%      50%  \\\n",
       "player_age           4257.0   28.031947    3.763873  19.000   25.000   28.000   \n",
       "b_ab                 4257.0  276.637538  178.902220  36.000  115.000  235.000   \n",
       "b_total_hits         4257.0   69.944797   50.922048   0.000   25.000   56.000   \n",
       "b_single             4257.0   44.792577   33.023068   0.000   17.000   36.000   \n",
       "b_double             4257.0   13.941273   10.923621   0.000    5.000   11.000   \n",
       "b_triple             4257.0    1.341555    1.816110   0.000    0.000    1.000   \n",
       "b_home_run           4257.0    9.869392    9.779853   0.000    2.000    7.000   \n",
       "b_strikeout          4257.0   66.975335   42.247415   3.000   31.000   58.000   \n",
       "b_walk               4257.0   26.122622   21.804594   0.000    9.000   20.000   \n",
       "batting_avg          4257.0    0.236554    0.049018   0.000    0.211    0.244   \n",
       "slg_percent          4257.0    0.386376    0.101385   0.000    0.330    0.393   \n",
       "on_base_percent      4257.0    0.302072    0.058383   0.000    0.277    0.310   \n",
       "b_rbi                4257.0   35.587503   28.446765   0.000   12.000   28.000   \n",
       "r_total_stolen_base  4257.0    4.120742    6.637675   0.000    0.000    2.000   \n",
       "b_swinging_strike    4257.0  138.871271   94.383028   6.000   61.000  118.000   \n",
       "xba                  4257.0    0.233271    0.040756   0.022    0.213    0.239   \n",
       "xslg                 4257.0    0.379865    0.092189   0.029    0.326    0.381   \n",
       "xwoba                4257.0    0.299138    0.055068   0.040    0.274    0.303   \n",
       "xobp                 4257.0    0.302645    0.051897   0.044    0.280    0.308   \n",
       "xiso                 4257.0    0.146597    0.064263   0.002    0.101    0.142   \n",
       "bacon                4257.0    0.319246    0.056831   0.000    0.289    0.323   \n",
       "exit_velocity_avg    4257.0   87.887503    2.696499  72.500   86.300   88.100   \n",
       "launch_angle_avg     4257.0   11.672351    5.799420 -37.500    8.400   12.000   \n",
       "barrel_batted_rate   4257.0    6.352690    4.381434   0.000    3.000    5.800   \n",
       "sprint_speed         4257.0   26.916044    1.645898  20.200   25.900   27.100   \n",
       "\n",
       "                         75%      max  \n",
       "player_age            31.000   43.000  \n",
       "b_ab                 429.000  681.000  \n",
       "b_total_hits         110.000  216.000  \n",
       "b_single              69.000  170.000  \n",
       "b_double              22.000   58.000  \n",
       "b_triple               2.000   15.000  \n",
       "b_home_run            14.000   62.000  \n",
       "b_strikeout           97.000  219.000  \n",
       "b_walk                38.000  145.000  \n",
       "batting_avg            0.269    0.400  \n",
       "slg_percent            0.451    0.755  \n",
       "on_base_percent        0.338    0.490  \n",
       "b_rbi                 54.000  133.000  \n",
       "r_total_stolen_base    5.000   62.000  \n",
       "b_swinging_strike    202.000  476.000  \n",
       "xba                    0.260    0.359  \n",
       "xslg                   0.438    0.706  \n",
       "xwoba                  0.333    0.475  \n",
       "xobp                   0.334    0.475  \n",
       "xiso                   0.188    0.401  \n",
       "bacon                  0.355    0.607  \n",
       "exit_velocity_avg     89.700   96.500  \n",
       "launch_angle_avg      15.400   34.300  \n",
       "barrel_batted_rate     9.100   31.600  \n",
       "sprint_speed          28.100   30.900  "
      ]
     },
     "execution_count": 7,
     "metadata": {},
     "output_type": "execute_result"
    }
   ],
   "source": [
    "# summary statistics\n",
    "\n",
    "baseballfinal.describe().T"
   ]
  },
  {
   "cell_type": "code",
   "execution_count": 8,
   "id": "142f152e-c2d8-4a40-984d-11acd243514a",
   "metadata": {},
   "outputs": [
    {
     "data": {
      "text/plain": [
       "((2852, 24), (1405, 24))"
      ]
     },
     "execution_count": 8,
     "metadata": {},
     "output_type": "execute_result"
    }
   ],
   "source": [
    "# train and test data\n",
    "X = baseballfinal.drop(['b_home_run','homeruncat'], axis=1)\n",
    "y = baseballfinal['homeruncat']\n",
    "\n",
    "from sklearn.model_selection import train_test_split\n",
    "\n",
    "X_train, X_test, y_train, y_test = train_test_split(X, y, test_size = 0.33, random_state = 42)\n",
    "\n",
    "X_train.shape, X_test.shape"
   ]
  },
  {
   "cell_type": "code",
   "execution_count": 9,
   "id": "2aa2c0cf-67d8-4e1c-be16-5d50df7387e2",
   "metadata": {},
   "outputs": [],
   "source": [
    "# import Random Forest classifier\n",
    "\n",
    "from sklearn.ensemble import RandomForestClassifier\n",
    "\n",
    "# instantiate the classifier \n",
    "\n",
    "rfc = RandomForestClassifier(n_estimators = 200,random_state=0)\n"
   ]
  },
  {
   "cell_type": "code",
   "execution_count": 10,
   "id": "fa7f075d-8b02-4288-9a89-5030d90da7af",
   "metadata": {},
   "outputs": [
    {
     "name": "stdout",
     "output_type": "stream",
     "text": [
      "Model accuracy score with 200 decision-trees : 0.8904\n"
     ]
    }
   ],
   "source": [
    "# fit the model\n",
    "\n",
    "rfc.fit(X_train, y_train)\n",
    "\n",
    "# Predict the Test set results\n",
    "\n",
    "y_pred = rfc.predict(X_test)\n",
    "\n",
    "# Check accuracy score (all variables included)\n",
    "\n",
    "from sklearn.metrics import accuracy_score\n",
    "\n",
    "print('Model accuracy score with 200 decision-trees : {0:.4f}'. format(accuracy_score(y_test, y_pred)))"
   ]
  },
  {
   "cell_type": "code",
   "execution_count": 11,
   "id": "bc9f0060-1f25-4583-b245-cbec68ddfb19",
   "metadata": {},
   "outputs": [
    {
     "data": {
      "text/plain": [
       "b_rbi                  0.166245\n",
       "b_swinging_strike      0.111011\n",
       "slg_percent            0.076734\n",
       "b_ab                   0.075968\n",
       "b_walk                 0.069747\n",
       "xiso                   0.066904\n",
       "b_strikeout            0.066867\n",
       "b_total_hits           0.058355\n",
       "xslg                   0.046665\n",
       "barrel_batted_rate     0.044856\n",
       "b_double               0.036760\n",
       "xwoba                  0.026946\n",
       "b_single               0.026080\n",
       "launch_angle_avg       0.017849\n",
       "batting_avg            0.015506\n",
       "xba                    0.013722\n",
       "bacon                  0.013152\n",
       "exit_velocity_avg      0.012713\n",
       "on_base_percent        0.011729\n",
       "sprint_speed           0.010528\n",
       "xobp                   0.010311\n",
       "player_age             0.007988\n",
       "r_total_stolen_base    0.007604\n",
       "b_triple               0.005763\n",
       "dtype: float64"
      ]
     },
     "execution_count": 11,
     "metadata": {},
     "output_type": "execute_result"
    }
   ],
   "source": [
    "# find most important features for the best model\n",
    "\n",
    "clf = RandomForestClassifier(n_estimators=100, random_state=0)\n",
    "\n",
    "# fit the model to the training set\n",
    "\n",
    "clf.fit(X_train, y_train)\n",
    "\n",
    "# table of features by importance\n",
    "\n",
    "feature_scores = pd.Series(clf.feature_importances_, index=X_train.columns).sort_values(ascending=False)\n",
    "\n",
    "feature_scores"
   ]
  },
  {
   "cell_type": "code",
   "execution_count": 13,
   "id": "d4750e35-3f5f-4065-83d9-3a1d401a7277",
   "metadata": {},
   "outputs": [
    {
     "data": {
      "image/png": "[encoded data removed]",
      "text/plain": [
       "<Figure size 432x288 with 1 Axes>"
      ]
     },
     "metadata": {
      "needs_background": "light"
     },
     "output_type": "display_data"
    }
   ],
   "source": [
    "# Graph the most importance features\n",
    "\n",
    "sns.barplot(x=feature_scores, y=feature_scores.index)\n",
    "plt.xlabel('Feature Importance Score')\n",
    "plt.ylabel('Features')\n",
    "plt.title(\"Visualizing Important Features\")\n",
    "\n",
    "plt.show()"
   ]
  },
  {
   "cell_type": "code",
   "execution_count": 20,
   "id": "6156a63c-9141-4c59-8027-3cb5332dd964",
   "metadata": {},
   "outputs": [
    {
     "name": "stdout",
     "output_type": "stream",
     "text": [
      "Confusion matrix\n",
      "\n",
      " [[ 62 166  88]\n",
      " [117 306 231]\n",
      " [ 87 203 145]]\n"
     ]
    }
   ],
   "source": [
    "# confusion matrix to assess model performance (false positives, false negatives)\n",
    "\n",
    "from sklearn.metrics import confusion_matrix\n",
    "\n",
    "cm = confusion_matrix(y_test, y_pred)\n",
    "\n",
    "print('Confusion matrix\\n\\n', cm)"
   ]
  },
  {
   "cell_type": "code",
   "execution_count": 21,
   "id": "775a1df6-9927-4b4c-b87e-dffbfe8dbbdb",
   "metadata": {},
   "outputs": [
    {
     "name": "stdout",
     "output_type": "stream",
     "text": [
      "              precision    recall  f1-score   support\n",
      "\n",
      "        High       0.23      0.20      0.21       316\n",
      "         Low       0.45      0.47      0.46       654\n",
      "      Medium       0.31      0.33      0.32       435\n",
      "\n",
      "    accuracy                           0.37      1405\n",
      "   macro avg       0.33      0.33      0.33      1405\n",
      "weighted avg       0.36      0.37      0.36      1405\n",
      "\n"
     ]
    }
   ],
   "source": [
    "from sklearn.metrics import classification_report\n",
    "\n",
    "print(classification_report(y_test, y_pred))"
   ]
  },
  {
   "cell_type": "markdown",
   "id": "a5edd8ed-ebdd-43d1-8557-c29c1ebaac2a",
   "metadata": {},
   "source": [
    "# Random Forest Attempt 2"
   ]
  },
  {
   "cell_type": "code",
   "execution_count": 22,
   "id": "80673ed5-ef7a-47e5-99df-62475f4de0c0",
   "metadata": {},
   "outputs": [],
   "source": [
    "# drop unimportant features\n",
    "# declare feature vector and target variable\n",
    "\n",
    "x2 = baseballfinal.drop(baseballfinal.columns.difference(['b_rbi','b_swinging_strike','sig_percent','b_walk']), axis = 1)"
   ]
  },
  {
   "cell_type": "code",
   "execution_count": 23,
   "id": "b7954224-b0f8-4dcd-b690-681bbb9dafed",
   "metadata": {},
   "outputs": [],
   "source": [
    "from sklearn.model_selection import train_test_split\n",
    "\n",
    "X_train, X_test, y_train, y_test = train_test_split(x2, y, test_size = 0.33, random_state = 40)"
   ]
  },
  {
   "cell_type": "code",
   "execution_count": 24,
   "id": "2d336588-5fce-497a-a9aa-682585e3e5d4",
   "metadata": {},
   "outputs": [
    {
     "name": "stdout",
     "output_type": "stream",
     "text": [
      "Model accuracy score with insignificant variables removed : 0.8100\n"
     ]
    }
   ],
   "source": [
    "clff = RandomForestClassifier(random_state=0)\n",
    "\n",
    "# fit the model to the training set\n",
    "\n",
    "clff.fit(X_train, y_train)\n",
    "\n",
    "# Predict on the test set results\n",
    "\n",
    "y_pred2 = clff.predict(X_test)\n",
    "\n",
    "# Check accuracy score \n",
    "\n",
    "print('Model accuracy score with insignificant variables removed : {0:0.4f}'. format(accuracy_score(y_test, y_pred2)))"
   ]
  },
  {
   "cell_type": "code",
   "execution_count": 25,
   "id": "197b5385-1500-4f0d-8df3-01d48366751c",
   "metadata": {},
   "outputs": [
    {
     "name": "stdout",
     "output_type": "stream",
     "text": [
      "Confusion matrix\n",
      "\n",
      " [[253   1  62]\n",
      " [  0 580  74]\n",
      " [ 55  75 305]]\n"
     ]
    }
   ],
   "source": [
    "# confusion matrix to assess model performance (false positives, false negatives)\n",
    "\n",
    "from sklearn.metrics import confusion_matrix\n",
    "\n",
    "cm2 = confusion_matrix(y_test, y_pred2)\n",
    "\n",
    "print('Confusion matrix\\n\\n', cm2)"
   ]
  },
  {
   "cell_type": "code",
   "execution_count": 27,
   "id": "caab0176-2901-486d-9b99-b35616a9c435",
   "metadata": {},
   "outputs": [
    {
     "name": "stdout",
     "output_type": "stream",
     "text": [
      "              precision    recall  f1-score   support\n",
      "\n",
      "        High       0.82      0.80      0.81       316\n",
      "         Low       0.88      0.89      0.89       654\n",
      "      Medium       0.69      0.70      0.70       435\n",
      "\n",
      "    accuracy                           0.81      1405\n",
      "   macro avg       0.80      0.80      0.80      1405\n",
      "weighted avg       0.81      0.81      0.81      1405\n",
      "\n"
     ]
    }
   ],
   "source": [
    "from sklearn.metrics import classification_report\n",
    "\n",
    "print(classification_report(y_test, y_pred2))"
   ]
  },
  {
   "cell_type": "markdown",
   "id": "fdb3b1a7-8d7c-4420-9655-9389d65a9614",
   "metadata": {},
   "source": [
    "# Random Forest Attempt 3"
   ]
  },
  {
   "cell_type": "code",
   "execution_count": 28,
   "id": "d06e4225-cb8a-441b-990b-44ae0845aa5b",
   "metadata": {},
   "outputs": [
    {
     "name": "stdout",
     "output_type": "stream",
     "text": [
      "Model accuracy score with insignificant variables removed : 0.8114\n"
     ]
    }
   ],
   "source": [
    "# model with manually-selected variables\n",
    "\n",
    "x3 = baseballfinal.drop(baseballfinal.columns.difference(['xiso','b_swinging_strike','xslg','barrel_batted_rate','bacon','launch_angle_average','exit_velocity_average']), axis = 1)\n",
    "X_train, X_test, y_train, y_test = train_test_split(x3, y, test_size = 0.33, random_state = 30)\n",
    "clfff = RandomForestClassifier(random_state=0)\n",
    "\n",
    "# fit the model to the training set\n",
    "\n",
    "clfff.fit(X_train, y_train)\n",
    "\n",
    "# Predict on the test set results\n",
    "\n",
    "y_pred3 = clfff.predict(X_test)\n",
    "\n",
    "# Check accuracy score \n",
    "\n",
    "print('Model accuracy score with insignificant variables removed : {0:0.4f}'. format(accuracy_score(y_test, y_pred3)))"
   ]
  },
  {
   "cell_type": "code",
   "execution_count": 29,
   "id": "15de3b46-ee05-4032-bf3b-af7b737e7ecd",
   "metadata": {},
   "outputs": [
    {
     "data": {
      "text/plain": [
       "b_swinging_strike     0.421328\n",
       "xslg                  0.221047\n",
       "xiso                  0.176466\n",
       "barrel_batted_rate    0.098691\n",
       "bacon                 0.082468\n",
       "dtype: float64"
      ]
     },
     "execution_count": 29,
     "metadata": {},
     "output_type": "execute_result"
    }
   ],
   "source": [
    "feature_scores3 = pd.Series(clfff.feature_importances_, index=X_train.columns).sort_values(ascending=False)\n",
    "\n",
    "feature_scores3"
   ]
  },
  {
   "cell_type": "code",
   "execution_count": 30,
   "id": "25918797-2e9c-44a4-8bf2-66cfab50b8be",
   "metadata": {},
   "outputs": [
    {
     "name": "stdout",
     "output_type": "stream",
     "text": [
      "Confusion matrix\n",
      "\n",
      " [[239   1  60]\n",
      " [  0 608  78]\n",
      " [ 45  81 293]]\n"
     ]
    }
   ],
   "source": [
    "cm3 = confusion_matrix(y_test, y_pred3)\n",
    "\n",
    "print('Confusion matrix\\n\\n', cm3)"
   ]
  },
  {
   "cell_type": "code",
   "execution_count": 31,
   "id": "e2534504-e4fc-4738-ad22-68075e7d6048",
   "metadata": {},
   "outputs": [
    {
     "name": "stdout",
     "output_type": "stream",
     "text": [
      "              precision    recall  f1-score   support\n",
      "\n",
      "        High       0.84      0.80      0.82       300\n",
      "         Low       0.88      0.89      0.88       686\n",
      "      Medium       0.68      0.70      0.69       419\n",
      "\n",
      "    accuracy                           0.81      1405\n",
      "   macro avg       0.80      0.79      0.80      1405\n",
      "weighted avg       0.81      0.81      0.81      1405\n",
      "\n"
     ]
    }
   ],
   "source": [
    "print(classification_report(y_test, y_pred3))"
   ]
  },
  {
   "cell_type": "code",
   "execution_count": null,
   "id": "aefc58e1-c479-48b2-aca7-41a9d38e907f",
   "metadata": {},
   "outputs": [],
   "source": []
  }
 ],
 "metadata": {
  "kernelspec": {
   "display_name": "Python 3",
   "language": "python",
   "name": "python3"
  },
  "language_info": {
   "codemirror_mode": {
    "name": "ipython",
    "version": 3
   },
   "file_extension": ".py",
   "mimetype": "text/x-python",
   "name": "python",
   "nbconvert_exporter": "python",
   "pygments_lexer": "ipython3",
   "version": "3.8.8"
  }
 },
 "nbformat": 4,
 "nbformat_minor": 5
}
