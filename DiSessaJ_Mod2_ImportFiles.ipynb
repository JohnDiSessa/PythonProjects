{
 "cells": [
  {
   "cell_type": "markdown",
   "metadata": {},
   "source": [
    "# Module 2 Assignnment\n",
    "\n",
    "ALY6140_Module2_ImportFiles\n",
    "\n",
    "Copyright (c) February 18, 2023\n",
    "\n",
    "Licensed\n",
    "\n",
    "Written by John DiSessa\n",
    "    \n"
   ]
  },
  {
   "cell_type": "code",
   "execution_count": 1,
   "metadata": {},
   "outputs": [],
   "source": [
    "#Import necessary libraries\n",
    "import pandas as pd\n",
    "import numpy as np\n",
    "import json"
   ]
  },
  {
   "cell_type": "code",
   "execution_count": 4,
   "metadata": {},
   "outputs": [],
   "source": [
    "# Import CSV #\n",
    "\n",
    "def import_csv (csv_file):\n",
    "    \"\"\"\n",
    "    :param csv_file: file name of a csv file to be converted to pandas dataframe\n",
    "    :return: pandas dataframe\n",
    "    \"\"\"\n",
    "    df_from_csv = pd.read_csv(csv_file)\n",
    "    result = df_from_csv\n",
    "    return result\n",
    "\n",
    "if __name__ == '__main__':\n",
    "    import_csv('Neural_data.csv')"
   ]
  },
  {
   "cell_type": "code",
   "execution_count": 13,
   "metadata": {},
   "outputs": [],
   "source": [
    "#Import TXT\n",
    "\n",
    "def import_txt(txt_file):\n",
    "    \"\"\"\n",
    "    :param txt_file: file name of a txt file to be converted to pandas dataframe\n",
    "    :return: pandas dataframe\n",
    "    \"\"\"\n",
    "    results = []\n",
    "    with open(txt_file) as f:\n",
    "        line = f.readline()\n",
    "        while line:\n",
    "            results.append(line.strip().split(\" \"))\n",
    "            line = f.readline()\n",
    "    f.close()\n",
    "    df_from_txtfile = pd.DataFrame(results)\n",
    "    result = df_from_txtfile\n",
    "    return result\n",
    "\n",
    "if __name__ == '__main__':\n",
    "    import_txt('network_data.txt')"
   ]
  },
  {
   "cell_type": "code",
   "execution_count": 14,
   "metadata": {},
   "outputs": [],
   "source": [
    "#Import JSON\n",
    "\n",
    "def import_json(json_file):\n",
    "    \"\"\"\n",
    "    :param json_file: file name of a json file to be converted to pandas dataframe\n",
    "    :return: pandas dataframe\n",
    "    \"\"\"\n",
    "    df_json = pd.read_json(json_file)\n",
    "    result = df_json\n",
    "    return result\n",
    "\n",
    "if __name__ == '__main__':\n",
    "    import_json('nested_data.json')"
   ]
  },
  {
   "cell_type": "code",
   "execution_count": 18,
   "metadata": {},
   "outputs": [],
   "source": [
    "#Import XLSX\n",
    "\n",
    "def import_excel(excel_file,sheetname):\n",
    "    \"\"\"\n",
    "    :param excel_file: file name of an excel file to be converted to pandas dataframe\n",
    "    :param sheetname: sheet name of the specific sheet to be converted to pandas dataframe\n",
    "    :return: pandas dataframe\n",
    "    \"\"\"\n",
    "    df_from_excel = pd.read_excel(excel_file, index_col = 0, header = 2, usecols = \"C:R\",sheet_name=sheetname)\n",
    "    result = df_from_excel\n",
    "    return result\n",
    "\n",
    "if __name__ == '__main__':\n",
    "    import_excel('Excel_report.xlsx','Sheet000')"
   ]
  },
  {
   "cell_type": "code",
   "execution_count": null,
   "metadata": {},
   "outputs": [],
   "source": []
  }
 ],
 "metadata": {
  "kernelspec": {
   "display_name": "Python 3",
   "language": "python",
   "name": "python3"
  },
  "language_info": {
   "codemirror_mode": {
    "name": "ipython",
    "version": 3
   },
   "file_extension": ".py",
   "mimetype": "text/x-python",
   "name": "python",
   "nbconvert_exporter": "python",
   "pygments_lexer": "ipython3",
   "version": "3.8.8"
  }
 },
 "nbformat": 4,
 "nbformat_minor": 4
}
