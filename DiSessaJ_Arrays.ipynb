{
 "cells": [
  {
   "cell_type": "markdown",
   "metadata": {},
   "source": [
    "# Week 3 Assignment\n",
    "* Download the \"Week_3_Assignment.ipynb\" notebook \n",
    "* Fill in the code in the cells marked with `# YOUR ANSWER HERE:` by answering the question/task defined in the cell above it starting with `GRADED:`\n",
    "* Code cells outside of `# YOUR ANSWER HERE:` will not be considered for grading. \n",
    "  * Feel free to write outside of it for debugging\n",
    "* Submit the updated notebook\n",
    "  * Make sure to save your changes before submitting it!"
   ]
  },
  {
   "cell_type": "code",
   "execution_count": 99,
   "metadata": {},
   "outputs": [
    {
     "data": {
      "text/html": [
       "<div>\n",
       "<style scoped>\n",
       "    .dataframe tbody tr th:only-of-type {\n",
       "        vertical-align: middle;\n",
       "    }\n",
       "\n",
       "    .dataframe tbody tr th {\n",
       "        vertical-align: top;\n",
       "    }\n",
       "\n",
       "    .dataframe thead th {\n",
       "        text-align: right;\n",
       "    }\n",
       "</style>\n",
       "<table border=\"1\" class=\"dataframe\">\n",
       "  <thead>\n",
       "    <tr style=\"text-align: right;\">\n",
       "      <th></th>\n",
       "      <th>iata</th>\n",
       "      <th>airport</th>\n",
       "      <th>city</th>\n",
       "      <th>state</th>\n",
       "      <th>country</th>\n",
       "      <th>lat</th>\n",
       "      <th>long</th>\n",
       "      <th>cnt</th>\n",
       "    </tr>\n",
       "  </thead>\n",
       "  <tbody>\n",
       "    <tr>\n",
       "      <th>0</th>\n",
       "      <td>ORD</td>\n",
       "      <td>Chicago O'Hare International</td>\n",
       "      <td>Chicago</td>\n",
       "      <td>IL</td>\n",
       "      <td>USA</td>\n",
       "      <td>41.979595</td>\n",
       "      <td>-87.904464</td>\n",
       "      <td>25129</td>\n",
       "    </tr>\n",
       "    <tr>\n",
       "      <th>1</th>\n",
       "      <td>ATL</td>\n",
       "      <td>William B Hartsfield-Atlanta Intl</td>\n",
       "      <td>Atlanta</td>\n",
       "      <td>GA</td>\n",
       "      <td>USA</td>\n",
       "      <td>33.640444</td>\n",
       "      <td>-84.426944</td>\n",
       "      <td>21925</td>\n",
       "    </tr>\n",
       "    <tr>\n",
       "      <th>2</th>\n",
       "      <td>DFW</td>\n",
       "      <td>Dallas-Fort Worth International</td>\n",
       "      <td>Dallas-Fort Worth</td>\n",
       "      <td>TX</td>\n",
       "      <td>USA</td>\n",
       "      <td>32.895951</td>\n",
       "      <td>-97.037200</td>\n",
       "      <td>20662</td>\n",
       "    </tr>\n",
       "    <tr>\n",
       "      <th>3</th>\n",
       "      <td>PHX</td>\n",
       "      <td>Phoenix Sky Harbor International</td>\n",
       "      <td>Phoenix</td>\n",
       "      <td>AZ</td>\n",
       "      <td>USA</td>\n",
       "      <td>33.434167</td>\n",
       "      <td>-112.008056</td>\n",
       "      <td>17290</td>\n",
       "    </tr>\n",
       "    <tr>\n",
       "      <th>4</th>\n",
       "      <td>DEN</td>\n",
       "      <td>Denver Intl</td>\n",
       "      <td>Denver</td>\n",
       "      <td>CO</td>\n",
       "      <td>USA</td>\n",
       "      <td>39.858408</td>\n",
       "      <td>-104.667002</td>\n",
       "      <td>13781</td>\n",
       "    </tr>\n",
       "  </tbody>\n",
       "</table>\n",
       "</div>"
      ],
      "text/plain": [
       "  iata                            airport               city state country  \\\n",
       "0  ORD       Chicago O'Hare International            Chicago    IL     USA   \n",
       "1  ATL  William B Hartsfield-Atlanta Intl            Atlanta    GA     USA   \n",
       "2  DFW    Dallas-Fort Worth International  Dallas-Fort Worth    TX     USA   \n",
       "3  PHX   Phoenix Sky Harbor International            Phoenix    AZ     USA   \n",
       "4  DEN                        Denver Intl             Denver    CO     USA   \n",
       "\n",
       "         lat        long    cnt  \n",
       "0  41.979595  -87.904464  25129  \n",
       "1  33.640444  -84.426944  21925  \n",
       "2  32.895951  -97.037200  20662  \n",
       "3  33.434167 -112.008056  17290  \n",
       "4  39.858408 -104.667002  13781  "
      ]
     },
     "execution_count": 99,
     "metadata": {},
     "output_type": "execute_result"
    }
   ],
   "source": [
    "# PLEASE, DO NOT MODIFY THIS CELL!\n",
    "\n",
    "# IMPORT NECESSARY LIBRARIES AND DATA\n",
    "import pandas as pd\n",
    "import numpy as np\n",
    "\n",
    "# SECtION A data\n",
    "nparr = np.arange(145, 217).reshape(12, 6)\n",
    "\n",
    "# data location\n",
    "data_url = 'https://raw.githubusercontent.com/plotly/datasets/master/2011_february_us_airport_traffic.csv'\n",
    "a_df = pd.read_csv(data_url, header=0)\n",
    "a_df.head()\n"
   ]
  },
  {
   "cell_type": "markdown",
   "metadata": {},
   "source": [
    "## GRADED SECTION A\n",
    "\n",
    "1. Determine the shape, number of dimensions and type of elements in the numpy array `nparr`\n",
    "2. Determine the standard deviation of all elements in `nparr`\n",
    "3. Determine the position (not the value) of the maximum value element in `nparr`\n",
    "4. Create an array of the same shape as `nparr` but filled with zeros\n",
    "5. Create an array of the same shape as `nparr` but filled with ones\n",
    "6. Create an array of the same shape as `nparr` but where all elements are the square root values\n",
    "7. Create an array result of shape `12` by `12` resulting from multiplication of nparr with transpose(`nparr`). Hint: use `np.dot`"
   ]
  },
  {
   "cell_type": "code",
   "execution_count": 2,
   "metadata": {},
   "outputs": [
    {
     "data": {
      "text/plain": [
       "array([[145, 146, 147, 148, 149, 150],\n",
       "       [151, 152, 153, 154, 155, 156],\n",
       "       [157, 158, 159, 160, 161, 162],\n",
       "       [163, 164, 165, 166, 167, 168],\n",
       "       [169, 170, 171, 172, 173, 174],\n",
       "       [175, 176, 177, 178, 179, 180],\n",
       "       [181, 182, 183, 184, 185, 186],\n",
       "       [187, 188, 189, 190, 191, 192],\n",
       "       [193, 194, 195, 196, 197, 198],\n",
       "       [199, 200, 201, 202, 203, 204],\n",
       "       [205, 206, 207, 208, 209, 210],\n",
       "       [211, 212, 213, 214, 215, 216]])"
      ]
     },
     "execution_count": 2,
     "metadata": {},
     "output_type": "execute_result"
    }
   ],
   "source": [
    "nparr"
   ]
  },
  {
   "cell_type": "code",
   "execution_count": 3,
   "metadata": {},
   "outputs": [],
   "source": [
    "# YOUR SECTION A ANSWER HERE (please use comments to number each of your answers)"
   ]
  },
  {
   "cell_type": "code",
   "execution_count": 4,
   "metadata": {},
   "outputs": [
    {
     "data": {
      "text/plain": [
       "(12, 6)"
      ]
     },
     "execution_count": 4,
     "metadata": {},
     "output_type": "execute_result"
    }
   ],
   "source": [
    "# 1 Shape\n",
    "\n",
    "nparr.shape"
   ]
  },
  {
   "cell_type": "code",
   "execution_count": 5,
   "metadata": {},
   "outputs": [
    {
     "data": {
      "text/plain": [
       "2"
      ]
     },
     "execution_count": 5,
     "metadata": {},
     "output_type": "execute_result"
    }
   ],
   "source": [
    "# 1 Dimensions\n",
    "\n",
    "nparr.ndim"
   ]
  },
  {
   "cell_type": "code",
   "execution_count": 6,
   "metadata": {},
   "outputs": [
    {
     "data": {
      "text/plain": [
       "dtype('int64')"
      ]
     },
     "execution_count": 6,
     "metadata": {},
     "output_type": "execute_result"
    }
   ],
   "source": [
    "# 1 Elements\n",
    "\n",
    "nparr.dtype"
   ]
  },
  {
   "cell_type": "code",
   "execution_count": 7,
   "metadata": {},
   "outputs": [
    {
     "data": {
      "text/plain": [
       "20.78"
      ]
     },
     "execution_count": 7,
     "metadata": {},
     "output_type": "execute_result"
    }
   ],
   "source": [
    "# 2 Standard Deviation\n",
    "\n",
    "round(np.std(nparr),2)"
   ]
  },
  {
   "cell_type": "code",
   "execution_count": 8,
   "metadata": {},
   "outputs": [
    {
     "name": "stdout",
     "output_type": "stream",
     "text": [
      "The maximum value in nparr is at position 71.\n"
     ]
    }
   ],
   "source": [
    "# 3 Position of Max Value\n",
    "\n",
    "maxpos = np.argmax(nparr)\n",
    "print(f\"The maximum value in nparr is at position {maxpos}.\")"
   ]
  },
  {
   "cell_type": "code",
   "execution_count": 9,
   "metadata": {},
   "outputs": [
    {
     "data": {
      "text/plain": [
       "array([[0, 0, 0, 0, 0, 0],\n",
       "       [0, 0, 0, 0, 0, 0],\n",
       "       [0, 0, 0, 0, 0, 0],\n",
       "       [0, 0, 0, 0, 0, 0],\n",
       "       [0, 0, 0, 0, 0, 0],\n",
       "       [0, 0, 0, 0, 0, 0],\n",
       "       [0, 0, 0, 0, 0, 0],\n",
       "       [0, 0, 0, 0, 0, 0],\n",
       "       [0, 0, 0, 0, 0, 0],\n",
       "       [0, 0, 0, 0, 0, 0],\n",
       "       [0, 0, 0, 0, 0, 0],\n",
       "       [0, 0, 0, 0, 0, 0]])"
      ]
     },
     "execution_count": 9,
     "metadata": {},
     "output_type": "execute_result"
    }
   ],
   "source": [
    "# 4 Array of Zeros\n",
    "\n",
    "array0 = np.zeros_like(nparr)\n",
    "array0"
   ]
  },
  {
   "cell_type": "code",
   "execution_count": 10,
   "metadata": {},
   "outputs": [
    {
     "data": {
      "text/plain": [
       "array([[1, 1, 1, 1, 1, 1],\n",
       "       [1, 1, 1, 1, 1, 1],\n",
       "       [1, 1, 1, 1, 1, 1],\n",
       "       [1, 1, 1, 1, 1, 1],\n",
       "       [1, 1, 1, 1, 1, 1],\n",
       "       [1, 1, 1, 1, 1, 1],\n",
       "       [1, 1, 1, 1, 1, 1],\n",
       "       [1, 1, 1, 1, 1, 1],\n",
       "       [1, 1, 1, 1, 1, 1],\n",
       "       [1, 1, 1, 1, 1, 1],\n",
       "       [1, 1, 1, 1, 1, 1],\n",
       "       [1, 1, 1, 1, 1, 1]])"
      ]
     },
     "execution_count": 10,
     "metadata": {},
     "output_type": "execute_result"
    }
   ],
   "source": [
    "# 5 Array of Ones\n",
    "\n",
    "array1 = np.ones_like(nparr)\n",
    "array1"
   ]
  },
  {
   "cell_type": "code",
   "execution_count": 12,
   "metadata": {},
   "outputs": [
    {
     "data": {
      "text/plain": [
       "array([[12.04, 12.08, 12.12, 12.17, 12.21, 12.25],\n",
       "       [12.29, 12.33, 12.37, 12.41, 12.45, 12.49],\n",
       "       [12.53, 12.57, 12.61, 12.65, 12.69, 12.73],\n",
       "       [12.77, 12.81, 12.85, 12.88, 12.92, 12.96],\n",
       "       [13.  , 13.04, 13.08, 13.11, 13.15, 13.19],\n",
       "       [13.23, 13.27, 13.3 , 13.34, 13.38, 13.42],\n",
       "       [13.45, 13.49, 13.53, 13.56, 13.6 , 13.64],\n",
       "       [13.67, 13.71, 13.75, 13.78, 13.82, 13.86],\n",
       "       [13.89, 13.93, 13.96, 14.  , 14.04, 14.07],\n",
       "       [14.11, 14.14, 14.18, 14.21, 14.25, 14.28],\n",
       "       [14.32, 14.35, 14.39, 14.42, 14.46, 14.49],\n",
       "       [14.53, 14.56, 14.59, 14.63, 14.66, 14.7 ]])"
      ]
     },
     "execution_count": 12,
     "metadata": {},
     "output_type": "execute_result"
    }
   ],
   "source": [
    "# 6 Square Root Array\n",
    "\n",
    "array_sqrt = np.round(np.sqrt(nparr),2)\n",
    "array_sqrt"
   ]
  },
  {
   "cell_type": "code",
   "execution_count": 41,
   "metadata": {},
   "outputs": [
    {
     "data": {
      "text/plain": [
       "array([[ 885,  921,  957,  993, 1029, 1065, 1101, 1137, 1173, 1209, 1245,\n",
       "        1281],\n",
       "       [ 885,  921,  957,  993, 1029, 1065, 1101, 1137, 1173, 1209, 1245,\n",
       "        1281],\n",
       "       [ 885,  921,  957,  993, 1029, 1065, 1101, 1137, 1173, 1209, 1245,\n",
       "        1281],\n",
       "       [ 885,  921,  957,  993, 1029, 1065, 1101, 1137, 1173, 1209, 1245,\n",
       "        1281],\n",
       "       [ 885,  921,  957,  993, 1029, 1065, 1101, 1137, 1173, 1209, 1245,\n",
       "        1281],\n",
       "       [ 885,  921,  957,  993, 1029, 1065, 1101, 1137, 1173, 1209, 1245,\n",
       "        1281],\n",
       "       [ 885,  921,  957,  993, 1029, 1065, 1101, 1137, 1173, 1209, 1245,\n",
       "        1281],\n",
       "       [ 885,  921,  957,  993, 1029, 1065, 1101, 1137, 1173, 1209, 1245,\n",
       "        1281],\n",
       "       [ 885,  921,  957,  993, 1029, 1065, 1101, 1137, 1173, 1209, 1245,\n",
       "        1281],\n",
       "       [ 885,  921,  957,  993, 1029, 1065, 1101, 1137, 1173, 1209, 1245,\n",
       "        1281],\n",
       "       [ 885,  921,  957,  993, 1029, 1065, 1101, 1137, 1173, 1209, 1245,\n",
       "        1281],\n",
       "       [ 885,  921,  957,  993, 1029, 1065, 1101, 1137, 1173, 1209, 1245,\n",
       "        1281]])"
      ]
     },
     "execution_count": 41,
     "metadata": {},
     "output_type": "execute_result"
    }
   ],
   "source": [
    "# 7 Transpose Array\n",
    "\n",
    "np.round(np.dot(array1,np.transpose(nparr)),2)"
   ]
  },
  {
   "cell_type": "markdown",
   "metadata": {},
   "source": [
    "## GRADED SECTION B\n",
    "\n",
    "The dataframe `a_df` loads the dataset that contains information on a number of categories regarding traffic (variable `cnt` represents the actual traffic) at US airports from February 2011.\n",
    "The dataset has already been loaded for you in the first code cell above.\n",
    " 1. Print the number of rows for the subset of the dataframe for which traffic values are higher than `10,000` (ideally, you should format the print to put the thousands comma separator--as in `23,400` instead of `23400`\n",
    " 2. Print the names of all the columns of the dataframe\n",
    " 3. Print a subset of the dataframe containing the `10th` and the `3rd` rows of the original dataframe (`in that order`).\n",
    " 4. Which US `state` has the `8th` largest __total__ airport traffic? Please, make sure you use the correct variable as described above.\n",
    " 5. Which state has the second-most __total__ number of airports (i.e. the second-most amount of airports)?\n",
    " 6. Of the cities that have multiple airports, which one has the least total traffic for all airports?\n",
    " 7. What is the total airport traffic for all states that border the state of Massachusetts?\n"
   ]
  },
  {
   "cell_type": "code",
   "execution_count": 14,
   "metadata": {},
   "outputs": [],
   "source": [
    "# YOUR SECTION B ANSWER HERE (please use comments to number each of your answers)"
   ]
  },
  {
   "cell_type": "code",
   "execution_count": 15,
   "metadata": {},
   "outputs": [
    {
     "data": {
      "text/html": [
       "<div>\n",
       "<style scoped>\n",
       "    .dataframe tbody tr th:only-of-type {\n",
       "        vertical-align: middle;\n",
       "    }\n",
       "\n",
       "    .dataframe tbody tr th {\n",
       "        vertical-align: top;\n",
       "    }\n",
       "\n",
       "    .dataframe thead th {\n",
       "        text-align: right;\n",
       "    }\n",
       "</style>\n",
       "<table border=\"1\" class=\"dataframe\">\n",
       "  <thead>\n",
       "    <tr style=\"text-align: right;\">\n",
       "      <th></th>\n",
       "      <th>iata</th>\n",
       "      <th>airport</th>\n",
       "      <th>city</th>\n",
       "      <th>state</th>\n",
       "      <th>country</th>\n",
       "      <th>lat</th>\n",
       "      <th>long</th>\n",
       "      <th>cnt</th>\n",
       "    </tr>\n",
       "  </thead>\n",
       "  <tbody>\n",
       "    <tr>\n",
       "      <th>0</th>\n",
       "      <td>ORD</td>\n",
       "      <td>Chicago O'Hare International</td>\n",
       "      <td>Chicago</td>\n",
       "      <td>IL</td>\n",
       "      <td>USA</td>\n",
       "      <td>41.979595</td>\n",
       "      <td>-87.904464</td>\n",
       "      <td>25129</td>\n",
       "    </tr>\n",
       "    <tr>\n",
       "      <th>1</th>\n",
       "      <td>ATL</td>\n",
       "      <td>William B Hartsfield-Atlanta Intl</td>\n",
       "      <td>Atlanta</td>\n",
       "      <td>GA</td>\n",
       "      <td>USA</td>\n",
       "      <td>33.640444</td>\n",
       "      <td>-84.426944</td>\n",
       "      <td>21925</td>\n",
       "    </tr>\n",
       "    <tr>\n",
       "      <th>2</th>\n",
       "      <td>DFW</td>\n",
       "      <td>Dallas-Fort Worth International</td>\n",
       "      <td>Dallas-Fort Worth</td>\n",
       "      <td>TX</td>\n",
       "      <td>USA</td>\n",
       "      <td>32.895951</td>\n",
       "      <td>-97.037200</td>\n",
       "      <td>20662</td>\n",
       "    </tr>\n",
       "    <tr>\n",
       "      <th>3</th>\n",
       "      <td>PHX</td>\n",
       "      <td>Phoenix Sky Harbor International</td>\n",
       "      <td>Phoenix</td>\n",
       "      <td>AZ</td>\n",
       "      <td>USA</td>\n",
       "      <td>33.434167</td>\n",
       "      <td>-112.008056</td>\n",
       "      <td>17290</td>\n",
       "    </tr>\n",
       "    <tr>\n",
       "      <th>4</th>\n",
       "      <td>DEN</td>\n",
       "      <td>Denver Intl</td>\n",
       "      <td>Denver</td>\n",
       "      <td>CO</td>\n",
       "      <td>USA</td>\n",
       "      <td>39.858408</td>\n",
       "      <td>-104.667002</td>\n",
       "      <td>13781</td>\n",
       "    </tr>\n",
       "    <tr>\n",
       "      <th>...</th>\n",
       "      <td>...</td>\n",
       "      <td>...</td>\n",
       "      <td>...</td>\n",
       "      <td>...</td>\n",
       "      <td>...</td>\n",
       "      <td>...</td>\n",
       "      <td>...</td>\n",
       "      <td>...</td>\n",
       "    </tr>\n",
       "    <tr>\n",
       "      <th>216</th>\n",
       "      <td>EAU</td>\n",
       "      <td>Chippewa Valley Regional</td>\n",
       "      <td>Eau Claire</td>\n",
       "      <td>WI</td>\n",
       "      <td>USA</td>\n",
       "      <td>44.865257</td>\n",
       "      <td>-91.485072</td>\n",
       "      <td>48</td>\n",
       "    </tr>\n",
       "    <tr>\n",
       "      <th>217</th>\n",
       "      <td>DBQ</td>\n",
       "      <td>Dubuque Municipal</td>\n",
       "      <td>Dubuque</td>\n",
       "      <td>IA</td>\n",
       "      <td>USA</td>\n",
       "      <td>42.402959</td>\n",
       "      <td>-90.709167</td>\n",
       "      <td>48</td>\n",
       "    </tr>\n",
       "    <tr>\n",
       "      <th>218</th>\n",
       "      <td>RST</td>\n",
       "      <td>Rochester International</td>\n",
       "      <td>Rochester</td>\n",
       "      <td>MN</td>\n",
       "      <td>USA</td>\n",
       "      <td>43.908826</td>\n",
       "      <td>-92.497987</td>\n",
       "      <td>37</td>\n",
       "    </tr>\n",
       "    <tr>\n",
       "      <th>219</th>\n",
       "      <td>UTM</td>\n",
       "      <td>Tunica Municipal Airport</td>\n",
       "      <td>Tunica</td>\n",
       "      <td>MS</td>\n",
       "      <td>USA</td>\n",
       "      <td>34.681499</td>\n",
       "      <td>-90.348816</td>\n",
       "      <td>32</td>\n",
       "    </tr>\n",
       "    <tr>\n",
       "      <th>220</th>\n",
       "      <td>BIL</td>\n",
       "      <td>Billings Logan Intl</td>\n",
       "      <td>Billings</td>\n",
       "      <td>MT</td>\n",
       "      <td>USA</td>\n",
       "      <td>45.807662</td>\n",
       "      <td>-108.542861</td>\n",
       "      <td>23</td>\n",
       "    </tr>\n",
       "  </tbody>\n",
       "</table>\n",
       "<p>221 rows × 8 columns</p>\n",
       "</div>"
      ],
      "text/plain": [
       "    iata                            airport               city state country  \\\n",
       "0    ORD       Chicago O'Hare International            Chicago    IL     USA   \n",
       "1    ATL  William B Hartsfield-Atlanta Intl            Atlanta    GA     USA   \n",
       "2    DFW    Dallas-Fort Worth International  Dallas-Fort Worth    TX     USA   \n",
       "3    PHX   Phoenix Sky Harbor International            Phoenix    AZ     USA   \n",
       "4    DEN                        Denver Intl             Denver    CO     USA   \n",
       "..   ...                                ...                ...   ...     ...   \n",
       "216  EAU           Chippewa Valley Regional         Eau Claire    WI     USA   \n",
       "217  DBQ                  Dubuque Municipal            Dubuque    IA     USA   \n",
       "218  RST            Rochester International          Rochester    MN     USA   \n",
       "219  UTM           Tunica Municipal Airport             Tunica    MS     USA   \n",
       "220  BIL                Billings Logan Intl           Billings    MT     USA   \n",
       "\n",
       "           lat        long    cnt  \n",
       "0    41.979595  -87.904464  25129  \n",
       "1    33.640444  -84.426944  21925  \n",
       "2    32.895951  -97.037200  20662  \n",
       "3    33.434167 -112.008056  17290  \n",
       "4    39.858408 -104.667002  13781  \n",
       "..         ...         ...    ...  \n",
       "216  44.865257  -91.485072     48  \n",
       "217  42.402959  -90.709167     48  \n",
       "218  43.908826  -92.497987     37  \n",
       "219  34.681499  -90.348816     32  \n",
       "220  45.807662 -108.542861     23  \n",
       "\n",
       "[221 rows x 8 columns]"
      ]
     },
     "execution_count": 15,
     "metadata": {},
     "output_type": "execute_result"
    }
   ],
   "source": [
    "# Load Data Frame\n",
    "\n",
    "a_df"
   ]
  },
  {
   "cell_type": "code",
   "execution_count": 16,
   "metadata": {},
   "outputs": [
    {
     "name": "stdout",
     "output_type": "stream",
     "text": [
      "10 airports have air traffic greater than 10,000.\n"
     ]
    }
   ],
   "source": [
    "# 1 Print rows where Count > 10,000\n",
    "\n",
    "subset10k = a_df[a_df.cnt > 10000]\n",
    "rows10k = subset10k.shape[0] # number of rows\n",
    "print(f\"{rows10k} airports have air traffic greater than 10,000.\")"
   ]
  },
  {
   "cell_type": "code",
   "execution_count": 17,
   "metadata": {},
   "outputs": [
    {
     "name": "stdout",
     "output_type": "stream",
     "text": [
      "['iata', 'airport', 'city', 'state', 'country', 'lat', 'long', 'cnt']\n"
     ]
    }
   ],
   "source": [
    "# 2 Print all Column Names\n",
    "\n",
    "print(list(a_df.columns.values))"
   ]
  },
  {
   "cell_type": "code",
   "execution_count": 43,
   "metadata": {},
   "outputs": [
    {
     "data": {
      "text/html": [
       "<div>\n",
       "<style scoped>\n",
       "    .dataframe tbody tr th:only-of-type {\n",
       "        vertical-align: middle;\n",
       "    }\n",
       "\n",
       "    .dataframe tbody tr th {\n",
       "        vertical-align: top;\n",
       "    }\n",
       "\n",
       "    .dataframe thead th {\n",
       "        text-align: right;\n",
       "    }\n",
       "</style>\n",
       "<table border=\"1\" class=\"dataframe\">\n",
       "  <thead>\n",
       "    <tr style=\"text-align: right;\">\n",
       "      <th></th>\n",
       "      <th>iata</th>\n",
       "      <th>airport</th>\n",
       "      <th>city</th>\n",
       "      <th>state</th>\n",
       "      <th>country</th>\n",
       "      <th>lat</th>\n",
       "      <th>long</th>\n",
       "      <th>cnt</th>\n",
       "    </tr>\n",
       "  </thead>\n",
       "  <tbody>\n",
       "    <tr>\n",
       "      <th>10</th>\n",
       "      <td>SLC</td>\n",
       "      <td>Salt Lake City Intl</td>\n",
       "      <td>Salt Lake City</td>\n",
       "      <td>UT</td>\n",
       "      <td>USA</td>\n",
       "      <td>40.788388</td>\n",
       "      <td>-111.977773</td>\n",
       "      <td>9898</td>\n",
       "    </tr>\n",
       "    <tr>\n",
       "      <th>3</th>\n",
       "      <td>PHX</td>\n",
       "      <td>Phoenix Sky Harbor International</td>\n",
       "      <td>Phoenix</td>\n",
       "      <td>AZ</td>\n",
       "      <td>USA</td>\n",
       "      <td>33.434167</td>\n",
       "      <td>-112.008056</td>\n",
       "      <td>17290</td>\n",
       "    </tr>\n",
       "  </tbody>\n",
       "</table>\n",
       "</div>"
      ],
      "text/plain": [
       "   iata                           airport            city state country  \\\n",
       "10  SLC               Salt Lake City Intl  Salt Lake City    UT     USA   \n",
       "3   PHX  Phoenix Sky Harbor International         Phoenix    AZ     USA   \n",
       "\n",
       "          lat        long    cnt  \n",
       "10  40.788388 -111.977773   9898  \n",
       "3   33.434167 -112.008056  17290  "
      ]
     },
     "execution_count": 43,
     "metadata": {},
     "output_type": "execute_result"
    }
   ],
   "source": [
    "# 3 Print the 10th and 3rd rows of the dataset\n",
    "\n",
    "a_df.loc[[10,3]]"
   ]
  },
  {
   "cell_type": "code",
   "execution_count": 19,
   "metadata": {},
   "outputs": [
    {
     "name": "stdout",
     "output_type": "stream",
     "text": [
      "CO was the state with the 8th most traffic with 17,005 flights.\n"
     ]
    }
   ],
   "source": [
    "# 4 Which state had the 8th most traffic\n",
    "\n",
    "statecnt = a_df.groupby('state')['cnt'].sum().reset_index()\n",
    "\n",
    "statesort = statecnt.sort_values('cnt', ascending = False)\n",
    "\n",
    "\n",
    "trafficmost8 = statesort['cnt'].iloc[7]\n",
    "statemost8 = statesort['state'].iloc[7]\n",
    "trafficmost8f = (f\"{trafficmost8:,}\")\n",
    "\n",
    "print(f\"{statemost8} was the state with the 8th most traffic with {trafficmost8f} flights.\")"
   ]
  },
  {
   "cell_type": "code",
   "execution_count": 25,
   "metadata": {},
   "outputs": [
    {
     "name": "stdout",
     "output_type": "stream",
     "text": [
      "TX was the state with the 2nd most airports with 17 airports.\n"
     ]
    }
   ],
   "source": [
    "# 5 Which state had the 2nd most number of airports\n",
    "\n",
    "stateairports = pd.DataFrame(a_df['state'].value_counts()).reset_index()\n",
    "stateairports2 = stateairports['index'].iloc[1]\n",
    "stateairportscnt = stateairports['state'].iloc[1]\n",
    "\n",
    "print(f\"{stateairports2} was the state with the 2nd most airports with {stateairportscnt} airports.\")"
   ]
  },
  {
   "cell_type": "code",
   "execution_count": 87,
   "metadata": {},
   "outputs": [],
   "source": [
    "# 6 Of the cities that have multiple airports, which one has the least total traffic for all airports?\n",
    "#create abbr by city\n",
    "#aggregate total traffic & how many different airports there are\n",
    "#aggreagte airport(distinct) and count(sum)\n",
    "#groupbind & agg\n"
   ]
  },
  {
   "cell_type": "code",
   "execution_count": 117,
   "metadata": {},
   "outputs": [
    {
     "name": "stdout",
     "output_type": "stream",
     "text": [
      "Of the cities with multiple airports, New York has the least total traffic with 13,337 flights.\n"
     ]
    }
   ],
   "source": [
    "# 6 Of the cities that have multiple airports, which one has the least total traffic for all airports?\n",
    "\n",
    "amod = a_df\n",
    "amod[\"city-state\"] = a_df['city'].astype(str) +\"-\"+ a_df[\"state\"]\n",
    "amod['Freq'] = amod.groupby('city-state')['city-state'].transform('count')\n",
    "amod1 = amod[amod[\"Freq\"] > 1]\n",
    "\n",
    "citycnt = amod1.groupby('city')['cnt'].sum().reset_index().sort_values(by=['cnt'], ascending = True)\n",
    "\n",
    "cityleast = citycnt['city'].iloc[0]\n",
    "trafficleast = citycnt['cnt'].iloc[0]\n",
    "trafficleastf = (f\"{trafficleast:,}\")\n",
    "\n",
    "print(f\"Of the cities with multiple airports, {cityleast} has the least total traffic with {trafficleastf} flights.\")"
   ]
  },
  {
   "cell_type": "code",
   "execution_count": 40,
   "metadata": {},
   "outputs": [
    {
     "name": "stdout",
     "output_type": "stream",
     "text": [
      "All of the states that border MA had 22,007 total flights.\n"
     ]
    }
   ],
   "source": [
    "# 7 What is the total airport traffic for all states that border the state of Massachusetts?\n",
    "\n",
    "maborderdb = statecnt[statecnt['state'].isin(['VT','NH','CT','NY','RI'])]\n",
    "mabordertraffic = maborderdb['cnt'].sum()\n",
    "mabordertrafficf = (f\"{mabordertraffic:,}\")\n",
    "\n",
    "print(f\"All of the states that border MA had {mabordertrafficf} total flights.\")"
   ]
  },
  {
   "cell_type": "markdown",
   "metadata": {},
   "source": [
    "# Sources\n",
    "https://stackoverflow.com/questions/5469286/how-to-get-the-index-of-a-maximum-element-in-a-numpy-array-along-one-axis#:~:text=There%20is%20argmin()%20and,of%20a%20numpy%20array%20respectively.&text=Note%20that%20these%20will%20only%20return%20the%20index%20of%20the%20first%20occurrence\n",
    "\n",
    "https://www.tutorialspoint.com/numpy/numpy_dot.htm\n",
    "\n",
    "https://numpy.org/doc/stable/reference/generated/numpy.transpose.html\n",
    "\n",
    "https://www.geeksforgeeks.org/how-to-get-column-names-in-pandas-dataframe/\n",
    "\n",
    "https://pandas.pydata.org/docs/reference/api/pandas.DataFrame.sort_values.html\n",
    "\n",
    "https://stackoverflow.com/questions/16729574/how-can-i-get-a-value-from-a-cell-of-a-dataframe\n",
    "\n",
    "https://stackoverflow.com/questions/1823058/how-to-print-a-number-using-commas-as-thousands-separators\n",
    "\n",
    "https://www.statology.org/pandas-add-count-column/\n",
    "\n",
    "https://sparkbyexamples.com/pandas/pandas-combine-two-columns-of-text-in-dataframe/\n",
    "\n",
    "https://stackoverflow.com/questions/37787698/how-to-sort-pandas-dataframe-from-one-column"
   ]
  },
  {
   "cell_type": "code",
   "execution_count": null,
   "metadata": {},
   "outputs": [],
   "source": []
  },
  {
   "cell_type": "code",
   "execution_count": null,
   "metadata": {},
   "outputs": [],
   "source": []
  }
 ],
 "metadata": {
  "kernelspec": {
   "display_name": "Python 3",
   "language": "python",
   "name": "python3"
  },
  "language_info": {
   "codemirror_mode": {
    "name": "ipython",
    "version": 3
   },
   "file_extension": ".py",
   "mimetype": "text/x-python",
   "name": "python",
   "nbconvert_exporter": "python",
   "pygments_lexer": "ipython3",
   "version": "3.8.8"
  }
 },
 "nbformat": 4,
 "nbformat_minor": 4
}
