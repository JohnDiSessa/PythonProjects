{
 "cells": [
  {
   "cell_type": "markdown",
   "metadata": {},
   "source": [
    "# Week 4 Assignment"
   ]
  },
  {
   "cell_type": "markdown",
   "metadata": {},
   "source": [
    "## Assignment Details\n",
    "The `1962_2006_walmart_store_openings.csv` file is available here:\n",
    "https://raw.githubusercontent.com/plotly/datasets/master/1962_2006_walmart_store_openings.csv\n",
    "\n",
    "It contains information on Walmart store openings between the years 1962-2006. Some explanations on the meaning of variable names:\n",
    "\n",
    "- `storenum`: the unique store number (storenumber is an id, not a count)\t\n",
    "- `OPENDATE`: the date the original store was opened\n",
    "- `date_super`: the date the store became a super store\n",
    "- `conversion`: whether the original store was converted to a super store\n",
    "- `STRCITY`: the name of the city where the store is located\n",
    "- `STRSTATE`: the state where the store is located\n",
    "\n",
    "When answering the questions below, please make sure to examine the dataset carefully and understand if it needs further data aggregation, cleaning, or wrangling before you calcualte the answers to your questions."
   ]
  },
  {
   "cell_type": "markdown",
   "metadata": {},
   "source": [
    "#### [GRADED  TASK 1]\n",
    "Import the dataset and ensure all columns of data are properly read into an appropriate data structure."
   ]
  },
  {
   "cell_type": "code",
   "execution_count": 6,
   "metadata": {},
   "outputs": [],
   "source": [
    "# Your answer to Graded Task 1 here:"
   ]
  },
  {
   "cell_type": "markdown",
   "metadata": {},
   "source": [
    "#### [GRADED  TASK 2]\n",
    "\n",
    "- which state has the `7th highest` total number of Walmart super stores?\n",
    "- which city has the `5th highest` total number of Walmart stores (super stores and regular stores combined)?"
   ]
  },
  {
   "cell_type": "code",
   "execution_count": 7,
   "metadata": {},
   "outputs": [],
   "source": [
    "# Your answer to Graded Task 2 here:"
   ]
  },
  {
   "cell_type": "markdown",
   "metadata": {},
   "source": [
    "#### [GRADED  TASK 3]\n",
    "Write a function that takes as arguments:\n",
    "\n",
    "1. the data frame you generated above from importing the Walmart dataset\n",
    "2. a state abbreviaton (e.g. `AR`)\n",
    "\n",
    "and, then, the function returns a pandas Data Frame with 2 columns: \n",
    "1. a column called `date` that contains the date (note that date must be properly ordered)\n",
    "2. a column called `cumsum` that contains the `cumulative` (i.e. `running`) sum of the number of stores over time opened in that state\n"
   ]
  },
  {
   "cell_type": "code",
   "execution_count": 8,
   "metadata": {},
   "outputs": [],
   "source": [
    "# Your answer to Graded Task 3 here:"
   ]
  },
  {
   "cell_type": "markdown",
   "metadata": {},
   "source": [
    "#### [GRADED  TASK 4]\n",
    "Using any of the three plotting libraries we discussed (`matplotlib`, `seaborn`, or `bokeh`), plot the time series of cumulative store count over time in the state of Idaho (ID)."
   ]
  },
  {
   "cell_type": "code",
   "execution_count": 9,
   "metadata": {},
   "outputs": [],
   "source": [
    "# Your answer to Graded Task 4 here:"
   ]
  },
  {
   "cell_type": "markdown",
   "metadata": {},
   "source": [
    "#### [GRADED  TASK 5]\n",
    "Using any of the three plotting libraries we discussed (`matplotlib`, `seaborn`, or `bokeh`), plot a bar chart that shows the `total` number of Walmart stores in each of the states that directly border the state of Utah (Arkansas (AR))."
   ]
  },
  {
   "cell_type": "code",
   "execution_count": 10,
   "metadata": {},
   "outputs": [],
   "source": [
    "# Your asnwer to Graded Task 5 here:"
   ]
  }
 ],
 "metadata": {
  "kernelspec": {
   "display_name": "Python 3",
   "language": "python",
   "name": "python3"
  },
  "language_info": {
   "codemirror_mode": {
    "name": "ipython",
    "version": 3
   },
   "file_extension": ".py",
   "mimetype": "text/x-python",
   "name": "python",
   "nbconvert_exporter": "python",
   "pygments_lexer": "ipython3",
   "version": "3.9.5"
  }
 },
 "nbformat": 4,
 "nbformat_minor": 4
}
